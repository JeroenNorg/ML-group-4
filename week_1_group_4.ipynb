{
 "cells": [
  {
   "cell_type": "code",
   "execution_count": null,
   "metadata": {
    "id": "-13_lWXuEnyV"
   },
   "outputs": [],
   "source": [
    "#from google.colab import drive\n",
    "#drive.mount('/content/drive')"
   ]
  },
  {
   "cell_type": "code",
   "execution_count": null,
   "metadata": {
    "id": "oz_Ia0JVGFIz"
   },
   "outputs": [],
   "source": [
    "#import sys\n",
    "#sys.path.append('/content/drive/MyDrive/code')"
   ]
  },
  {
   "cell_type": "markdown",
   "metadata": {
    "id": "AFaOnGUcT0Df"
   },
   "source": [
    "# Getting started with the practicals\n",
    "\n",
    "***These notebooks are best viewed in Jupyter. GitHub might not display all content of the notebook properly.***\n",
    "\n",
    "## Goal of the practical exercises\n",
    "\n",
    "The exercises have two goals:\n",
    "\n",
    "1. Give you the opportunity to obtain 'hands-on' experience in implementing, training and evaluation machine learning models in Python. This experience will also help you better understand the theory covered during the lectures.\n",
    "\n",
    "2. Occasionally demonstrate some 'exam-style' questions that you can use as a reference when studying for the exam. Note however that the example questions are (as the name suggests) only examples and do not constitute a complete and sufficient list of 'things that you have to learn for the exam'. You can recognize example questions as (parts of) exercises by <font color=\"#770a0a\">this font color</font>.\n",
    "\n",
    "For each set of exercises (one Python notebook such as this one $==$ one set of exercises) you have to submit deliverables that will then be graded and constitute 25% of the final grade. Thus, the work that you do during the practicals has double contribution towards the final grade: as 25% direct contribution and as a preparation for the exam that will define the other 65% of the grade.\n",
    "\n",
    "## Deliverables\n",
    "\n",
    "For each set of exercises, you have to submit:\n",
    "1. Python functions and/or classes (`.py` files) that implement basic functionalities (e.g. a $k$-NN classifier) and\n",
    "2. A *single* Python notebook that contains the experiments, visualization and answer to the questions and math problems. *Do not submit your answers as Word or PDF documents (they will not be graded)*. The submitted code and notebook should run without errors and be able to fully reproduce the reported results.\n",
    "\n",
    "We recommend that you clone the provided notebooks (such as this one) and write your code in them. The following rubric will be used when grading the practical work:\n",
    "\n",
    "Component  | Insufficient | Satisfactory | Excellent\n",
    "--- | --- | --- | ---\n",
    "**Code** | Missing or incomplete code structure, runs with errors, lacks documentation | Self-contained, does not result in errors, contains some documentation, can be easily used to reproduce the reported results | User-friendly, well-structured (good separation of general functionality and experiments, i.e. between `.py` files and the Pyhthon notebook), detailed documentation, optimized for speed, <s>use of a version control system (such as GitHub)</s>\n",
    "**Answers to questions** | Incorrect, does not convey understanding of the material, appears to be copied from another source | Correct, conveys good understanding of the material, description in own words | Correct, conveys excellent level of understanding, makes connections between topics\n",
    "\n",
    "## A word on notation\n",
    "\n",
    "When we refer to Python variables, we will use a monospace font. For example, `X` is a Python variable that contains the data matrix. When we refer to mathematical variables, we will use the de-facto standard notation: $a$ or $\\lambda$ is a scalar variable, $\\boldsymbol{\\mathrm{w}}$ is a vector and $\\boldsymbol{\\mathrm{X}}$ is a matrix (e.g. a data matrix from the example above). You should use the same notation when writing your answers and solutions.\n",
    "\n",
    "# Two simple machine learning models\n",
    "\n",
    "## Preliminaries\n",
    "\n",
    "Throughout the practical curriculum of this course, we will use the Python programming language and its ecosystem of libraries for scientific computing (such as `numpy`, `scipy`, `matplotlib`, `scikit-learn` etc). The practicals for the deep learning part of the course will use the `keras` deep learning framework. If you are not sufficiently familiar with this programming language and/or the listed libraries and packages, you are strongly advised to go over the corresponding tutorials from the ['Essential skills'](https://github.com/tueimage/essential-skills) module (the `scikit-learn` library is not covered by the tutorial, however, an extensive documentation is available [here](https://scikit-learn.org/stable/documentation.html).\n",
    "\n",
    "In this first set of exercises, we will use two toy datasets that ship together with `scikit-learn`.\n",
    "\n",
    "The first dataset is named `diabetes` and contains 442 patients described with 10 features: age, sex, body mass index, average blood pressure, and six blood serum measurements. The target variable is a continuous quantitative measure of the disease (diabetes) progression one year after the baseline measurements were recorded. More information is available [here](https://github.com/scikit-learn/scikit-learn/blob/master/sklearn/datasets/descr/diabetes.rst) and [here](https://www4.stat.ncsu.edu/~boos/var.select/diabetes.html).\n",
    "\n",
    "The second dataset is named `breast_cancer` and is a copy of the UCI ML Breast Cancer Wisconsin (Diagnostic) datasets (more infortmation is available [here](https://github.com/scikit-learn/scikit-learn/blob/master/sklearn/datasets/descr/breast_cancer.rst) and [here](https://archive.ics.uci.edu/ml/datasets/Breast+Cancer+Wisconsin+(Diagnostic)). The datasets contains of 569 instances represented with 30 features that are computed from a images of a fine needle aspirate of a breast mass. The features describe characteristics of the cell nuclei present in the image. Each instance is associated with a binary target variable ('malignant' or 'benign').\n",
    "\n",
    "You can load the two datasets in the following way:"
   ]
  },
  {
   "cell_type": "markdown",
   "metadata": {
    "id": "WbWNMDov_lt3"
   },
   "source": [
    "# Nieuwe sectie"
   ]
  },
  {
   "cell_type": "code",
   "execution_count": 1,
   "metadata": {
    "id": "sh71RoWAT0Ds"
   },
   "outputs": [],
   "source": [
    "import numpy as np\n",
    "from sklearn.datasets import load_diabetes, load_breast_cancer\n",
    "\n",
    "diabetes = load_diabetes()\n",
    "\n",
    "breast_cancer = load_breast_cancer()"
   ]
  },
  {
   "cell_type": "markdown",
   "metadata": {
    "id": "dgKfitxcT0Dv"
   },
   "source": [
    "In the majority of the exercises in this course, we will use higher-level libraries and packages such as `scikit-learn` and `keras` to implement, train and evaluate machine learning models. However, the goal of this first set of exercises is to illustrate basic mathematical tools and machine learning concepts. Because of this, we will impose a restriction of only using basic `numpy` functionality. Furthermore, you should as much as possible restrict the use of for-loops (e.g. use a vector-to-matrix product instead of a for loop when appropriate).\n",
    "\n",
    "If `X` is a 2D data matrix, we will use the convention that the rows of the matrix contain the samples (or instances) and the columns contain the features (inputs to the model). That means that a data matrix with a shape `(122, 13)` represents a dataset with 122 samples, each represented with 13 features. Similarly, if `Y` is a 2D matrix containing the targets, the rows correspond to the samples and the columns to the different targets (outputs of the model). Thus, if the shape of `Y` is `(122, 3)` that means that there are 122 samples and each sample is has 3 targets (note that in the majority of the examples we will only have a single target and thus the number of columns of `Y` will be 1).\n",
    "\n",
    "You can obtain the data and target matrices from the two datasets in the following way:"
   ]
  },
  {
   "cell_type": "code",
   "execution_count": 2,
   "metadata": {
    "colab": {
     "base_uri": "https://localhost:8080/"
    },
    "id": "80b5NNAXT0Dw",
    "outputId": "3ab3407d-7522-44ef-c438-d7df0cbdedad"
   },
   "outputs": [
    {
     "name": "stdout",
     "output_type": "stream",
     "text": [
      "(442, 10)\n",
      "(442, 1)\n"
     ]
    }
   ],
   "source": [
    "X = diabetes.data\n",
    "Y = diabetes.target[:, np.newaxis]\n",
    "\n",
    "print(X.shape)\n",
    "print(Y.shape)"
   ]
  },
  {
   "cell_type": "markdown",
   "metadata": {
    "id": "BBawrVYvT0Dx"
   },
   "source": [
    "If you want to only use a subset of the available features, you can obtain a reduced data matrix in the following way:"
   ]
  },
  {
   "cell_type": "code",
   "execution_count": 3,
   "metadata": {
    "colab": {
     "base_uri": "https://localhost:8080/"
    },
    "id": "BAxD7NRIT0Dx",
    "outputId": "95763f29-1ff4-400b-a9c9-47185d8b608f",
    "scrolled": true
   },
   "outputs": [
    {
     "name": "stdout",
     "output_type": "stream",
     "text": [
      "(442, 1)\n",
      "(442, 2)\n"
     ]
    }
   ],
   "source": [
    "# use only the fourth feature\n",
    "X = diabetes.data[:, np.newaxis, 3]\n",
    "print(X.shape)\n",
    "\n",
    "# use the third, and tenth features\n",
    "X = diabetes.data[:, (3,9)]\n",
    "print(X.shape)"
   ]
  },
  {
   "cell_type": "markdown",
   "metadata": {
    "id": "RtUoEGVVT0Dy"
   },
   "source": [
    "***Question***: Why we need to use the `np.newaxis` expression in the examples above?\n",
    "\n",
    "Note that in all your experiments in the exercises, you should use and independent training and testing sets. You can split the dataset into a training and testing subsets in the following way:"
   ]
  },
  {
   "cell_type": "code",
   "execution_count": 4,
   "metadata": {
    "colab": {
     "base_uri": "https://localhost:8080/"
    },
    "id": "mjV-tC-jT0Dz",
    "outputId": "0ceea3cc-41cb-4f0b-fd0b-7f1f9da99a85"
   },
   "outputs": [
    {
     "name": "stdout",
     "output_type": "stream",
     "text": [
      "(300, 1)\n",
      "(300, 1)\n",
      "(142, 1)\n",
      "(142, 1)\n"
     ]
    }
   ],
   "source": [
    "# use the fourth feature\n",
    "# use the first 300 training samples for training, and the rest for testing\n",
    "X_train = diabetes.data[:300, np.newaxis, 3]\n",
    "y_train = diabetes.target[:300, np.newaxis]\n",
    "X_test = diabetes.data[300:, np.newaxis, 3]\n",
    "y_test = diabetes.target[300:, np.newaxis]\n",
    "print(X_train.shape)\n",
    "print(y_train.shape)\n",
    "print(X_test.shape)\n",
    "print(y_test.shape)"
   ]
  },
  {
   "cell_type": "markdown",
   "metadata": {
    "id": "jnodarSnT0D0"
   },
   "source": [
    "## Exercises\n",
    "\n",
    "### Linear regression\n",
    "\n",
    "Implement training and evaluation of a linear regression model on the diabetes dataset using only matrix multiplication, inversion and transpose operations. Report the mean squared error of the model.\n",
    "\n",
    "To get you started we have implemented the first part of this exercise (fitting of the model) as an example."
   ]
  },
  {
   "cell_type": "code",
   "execution_count": null,
   "metadata": {
    "colab": {
     "base_uri": "https://localhost:8080/",
     "height": 383
    },
    "id": "9xGjoihST0D1",
    "outputId": "175e79ee-3866-4719-c54e-3d0292893cdf"
   },
   "outputs": [],
   "source": [
    "###### Example part ######\n",
    "# add subfolder that contains all the function implementations\n",
    "# to the system path so we can import them\n",
    "import sys\n",
    "sys.path.append('/content/code/')\n",
    "\n",
    "# the actual implementation is in linear_regression.py,\n",
    "# here we will just use it to fit a model\n",
    "from linear_regression import *\n",
    "\n",
    "# load the dataset\n",
    "# same as before, but now we use all features\n",
    "X_train = diabetes.data[:300, :]\n",
    "y_train = diabetes.target[:300, np.newaxis]\n",
    "X_test = diabetes.data[300:, :]\n",
    "y_test = diabetes.target[300:, np.newaxis]\n",
    "\n",
    "beta = lsq(X_train, y_train)\n",
    "\n",
    "# print the parameters\n",
    "print(beta)\n",
    "\n",
    "###### Exercise continues here ######\n",
    "# Make predictions on train set\n",
    "\n",
    "# add column of ones for the intercept\n",
    "ones = np.ones((len(X_train), 1))\n",
    "X_train = np.concatenate((ones, X_train), axis=1)\n",
    "y_pred_train = np.dot(X_train, beta)\n",
    "\n",
    "# Calculate the mean squared error\n",
    "mse_train = np.mean((y_train - y_pred_train) ** 2)\n",
    "print(\"Mean Squared Error of Train Set:\", mse_train)\n",
    "\n",
    "# Make predictions on test set\n",
    "# add column of ones for the intercept\n",
    "ones = np.ones((len(X_test), 1))\n",
    "X_test = np.concatenate((ones, X_test), axis=1)\n",
    "y_pred_test = np.dot(X_test, beta)\n",
    "\n",
    "# Calculate the mean squared error\n",
    "mse_test = np.mean((y_test - y_pred_test) ** 2)\n",
    "print(\"Mean Squared Error of Test Set:\", mse_test)"
   ]
  },
  {
   "cell_type": "markdown",
   "metadata": {
    "id": "YAAaXEnMO6dz"
   },
   "source": [
    "We observe a slightly lower MSE in the test set compared to the training set, but with the same order of magnitude. And so the linear regression performs slightly  better on the test set than on the training set, this shows that the model is model generalised well to unseen data."
   ]
  },
  {
   "cell_type": "markdown",
   "metadata": {
    "id": "1Y7gSp2BT0D2"
   },
   "source": [
    "### Weighted linear regression\n",
    "\n",
    "Assume that in the dataset that you use to train a linear regression model, there are identical versions of some samples. This problem can be reformulated to a weighted linear regression problem where the matrices $\\boldsymbol{\\mathrm{X}}$ and $\\boldsymbol{\\mathrm{Y}}$ (or the vector $\\boldsymbol{\\mathrm{y}}$ if there is only a single target/output variable) contain only the unique data samples, and a vector $\\boldsymbol{\\mathrm{d}}$ is introduced that gives more weight to samples that appear multiple times in the original dataset (for example, the sample that appears 3 times has a corresponding weight of 3).\n",
    "\n",
    "<p><font color='#770a0a'>Derive the expression for the least-squares solution of a weighted linear regression model (note that in addition to the matrices $\\boldsymbol{\\mathrm{X}}$ and $\\boldsymbol{\\mathrm{Y}}$, the solution should include a vector of weights $\\boldsymbol{\\mathrm{d}}$).</font></p>"
   ]
  },
  {
   "cell_type": "markdown",
   "metadata": {
    "id": "tlliLOAihOq2"
   },
   "source": [
    "In the unweighted regression model a cost function using the L2 norm is used to minimize the sum of squared errors. This looks as follows: J(β) = ∣∣ Y − Xβ ∣∣^2\n",
    "\n",
    "And with that an expression to solve β can be derived: β = (X^T⋅X)^-1⋅(X^T⋅Y)\n",
    "\n",
    "But now in a weighted regression model each data point is multiplied to a weight which corresponds to the amount of times a datapoint appeared. This gives the following problem to solve: J(β) = ∑ di* ∣∣ Yi − Xiβ ∣∣^2.\n",
    "\n",
    "In order to solve this with matrix multiplications we have to transform our d vector into a diagonal matrix: Q = I*d, where I is the identity matrix. This will simplify the equation: J(β) = (Y−Xβ)^T⋅Q⋅(Y−Xβ). And now we can solve β by taking the derivative of J(β) with respect to β and set it to zero: ∇J(β)=−2X^T⋅Q⋅(Y−Xβ) = 0. This gives the final derivation: β=(X^T⋅Q⋅X)^−1⋅X^T⋅Q⋅Y."
   ]
  },
  {
   "cell_type": "markdown",
   "metadata": {
    "id": "OtPwhIdqT0D3"
   },
   "source": [
    "### $k$-NN classification\n",
    "\n",
    "Implement a $k$-Nearest neighbors classifier from scratch in Python using only basic matrix operations with `numpy` and `scipy`. Train and evaluate the classifier on the breast cancer dataset, using all features. Show the performance of the classifier for different values of $k$ (plot the results in a graph). Note that for optimal results, you should normalize the features (e.g. to the $[0, 1]$ range or to have a zero mean and unit standard deviation)."
   ]
  },
  {
   "cell_type": "code",
   "execution_count": null,
   "metadata": {
    "id": "fLiEggal4Sf0"
   },
   "outputs": [],
   "source": [
    "X_train = breast_cancer.data[:380, :]\n",
    "y_train = breast_cancer.target[:380, np.newaxis]\n",
    "X_test = breast_cancer.data[380:, :]\n",
    "y_test = breast_cancer.target[380:, np.newaxis]"
   ]
  },
  {
   "cell_type": "code",
   "execution_count": null,
   "metadata": {
    "colab": {
     "base_uri": "https://localhost:8080/",
     "height": 383
    },
    "id": "SfSm-P1E4Tk-",
    "outputId": "58fdde79-f83c-42d8-ef70-4783bcf71b44"
   },
   "outputs": [],
   "source": [
    "from knn_calculation import *\n",
    "\n",
    "n = 40\n",
    "k_list = np.arange(1, n+1)\n",
    "acc_list = []\n",
    "\n",
    "for k in k_list:\n",
    "    knn = KnnCalculation(k, X_train, X_test, y_train, y_test, scaling=True)\n",
    "    prediction = knn.predict_target(mtype='classification')\n",
    "    accuracy = knn.performance(prediction, mtype='classification')\n",
    "    acc_list.append(accuracy)\n",
    "    #print(\"For k = \", k, \" accuracy of testset is: \", accuracy)"
   ]
  },
  {
   "cell_type": "code",
   "execution_count": null,
   "metadata": {
    "colab": {
     "base_uri": "https://localhost:8080/",
     "height": 245
    },
    "id": "0W3iHdOB4ZoH",
    "outputId": "07d10adf-f458-437b-a523-8cda0af7553a"
   },
   "outputs": [],
   "source": [
    "import matplotlib.pyplot as plt\n",
    "plt.plot(k_list, acc_list, label='Accuracy', marker='o', markersize=3)\n",
    "# Add title and axis names\n",
    "plt.title('Model Accuracy for increasing value of k')\n",
    "plt.xlabel('k Value')\n",
    "plt.ylabel('Accuracy')\n",
    "\n",
    "# Add legend\n",
    "plt.legend()\n",
    "\n",
    "# Show the plot\n",
    "plt.show()"
   ]
  },
  {
   "cell_type": "markdown",
   "metadata": {
    "id": "-uji0gCPT0D3"
   },
   "source": [
    "### $k$-NN regression\n",
    "\n",
    "Modify the $k$-NN implementation to do regression instead of classification. Compare the performance of the linear regression model and the $k$-NN regression model on the diabetes dataset for different values of $k$.."
   ]
  },
  {
   "cell_type": "code",
   "execution_count": null,
   "metadata": {
    "id": "LXsXXUbJ3rqf"
   },
   "outputs": [],
   "source": [
    "from Knn_regression import *\n",
    "\n",
    "X_d = diabetes.data\n",
    "Y_d = diabetes.target\n",
    "\n",
    "# first normalize the data\n",
    "# when there is no assumption about the distribution of the data then normalization is often used,\n",
    "# e.g. in algorithms such as K-Nearest Neighbors\n",
    "# formula normalization: xij' = xij-min(xj)/(max(ij)-min(ij))\n",
    "X_norm_d = (X_d - X_d.min(axis=0))/(X_d.max(axis=0)-X_d.min(axis=0))\n",
    "\n",
    "# split the data in training set and test set\n",
    "X_train_d = X_norm_d[:300]\n",
    "X_test_d = X_norm_d[300:]\n",
    "y_train_d = Y_d[:300]\n",
    "y_test_d = Y_d[300:]\n",
    "\n",
    "mses = kAnalysis(X_test_d, y_test_d, X_train_d, y_train_d, maxk=60)\n",
    "\n",
    "print(min(mses))"
   ]
  },
  {
   "cell_type": "markdown",
   "metadata": {
    "id": "kTvazD8LT0D4"
   },
   "source": [
    "### Class-conditional probability\n",
    "\n",
    "Compute and visualize the class-conditional probability (conditional probability where the class label is the conditional variable, i.e. $P(X = x \\mid Y = y_i)$ for all features in the breast cancer dataset. Assume a Gaussian distribution.\n",
    "\n",
    "<p><font color='#770a0a'>Based on visual analysis of the plots, which individual feature can best discriminate between the two classes? Motivate your answer.</font></p>\n",
    "\n"
   ]
  },
  {
   "cell_type": "code",
   "execution_count": null,
   "metadata": {
    "colab": {
     "base_uri": "https://localhost:8080/",
     "height": 1000
    },
    "id": "IVzhFnBQeash",
    "outputId": "d688791d-1143-4d51-ebc2-fc56ff90e4ef"
   },
   "outputs": [],
   "source": [
    "from scipy.stats import norm\n",
    "import numpy as np\n",
    "import matplotlib.pyplot as plt\n",
    "\n",
    "# Step 1: Define the data\n",
    "X = breast_cancer.data\n",
    "y = breast_cancer.target\n",
    "\n",
    "# Step 2: Separate the dataset by class labels (malignant and benign)\n",
    "class_0_data = X[y == 0]\n",
    "class_1_data = X[y == 1]\n",
    "\n",
    "# Step 3: Calculate mean and variance for each feature in each class\n",
    "class_0_means = np.mean(class_0_data, axis=0)\n",
    "class_1_means = np.mean(class_1_data, axis=0)\n",
    "class_0_variances = np.var(class_0_data, axis=0)\n",
    "class_1_variances = np.var(class_1_data, axis=0)\n",
    "\n",
    "# Define a range of values for x (feature values)\n",
    "x_values = np.linspace(0, 30, 1000)  # Adjust the range based on your data\n",
    "\n",
    "# Step 4: Plot class-conditional probability for each feature\n",
    "for i in range(X.shape[1]):\n",
    "    plt.figure(figsize=(8, 4))\n",
    "    pdf_class_0 = norm.pdf(x_values, loc=class_0_means[i], scale=np.sqrt(class_0_variances[i]))\n",
    "    pdf_class_1 = norm.pdf(x_values, loc=class_1_means[i], scale=np.sqrt(class_1_variances[i]))\n",
    "\n",
    "    plt.plot(x_values, pdf_class_0, label='Malignant (Class 0)')\n",
    "    plt.plot(x_values, pdf_class_1, label='Benign (Class 1)')\n",
    "\n",
    "    plt.xlabel(f'Feature {i + 1}')\n",
    "    plt.ylabel('Probability Density')\n",
    "    plt.legend()\n",
    "    plt.title(f'Class-Conditional Probability for Feature {i + 1}')\n",
    "    plt.grid(True)\n",
    "\n",
    "plt.show()"
   ]
  },
  {
   "cell_type": "markdown",
   "metadata": {
    "id": "HXflAPfUESVB"
   },
   "source": [
    "Feature 24 shows the biggest difference between the two classes, with a constant difference of ~3,25."
   ]
  }
 ],
 "metadata": {
  "colab": {
   "provenance": []
  },
  "kernelspec": {
   "display_name": "Python 3 (ipykernel)",
   "language": "python",
   "name": "python3"
  },
  "language_info": {
   "codemirror_mode": {
    "name": "ipython",
    "version": 3
   },
   "file_extension": ".py",
   "mimetype": "text/x-python",
   "name": "python",
   "nbconvert_exporter": "python",
   "pygments_lexer": "ipython3",
   "version": "3.10.9"
  }
 },
 "nbformat": 4,
 "nbformat_minor": 1
}
